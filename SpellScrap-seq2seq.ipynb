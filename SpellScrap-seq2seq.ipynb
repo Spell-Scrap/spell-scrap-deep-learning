{
  "nbformat": 4,
  "nbformat_minor": 0,
  "metadata": {
    "colab": {
      "name": "Untitled7.ipynb",
      "provenance": [],
      "collapsed_sections": []
    },
    "kernelspec": {
      "name": "python3",
      "display_name": "Python 3"
    },
    "language_info": {
      "name": "python"
    }
  },
  "cells": [
    {
      "cell_type": "markdown",
      "metadata": {
        "id": "dpShpPFIVoeL"
      },
      "source": [
        "**Empezamos**"
      ]
    },
    {
      "cell_type": "code",
      "metadata": {
        "id": "60riDXhC0uGY"
      },
      "source": [
        "import numpy as np\n",
        "import tensorflow as tf\n",
        "from tensorflow import keras as ks\n",
        "from tensorflow.keras import layers as lys\n",
        "import random\n",
        "import string\n",
        "import re\n"
      ],
      "execution_count": 8,
      "outputs": []
    },
    {
      "cell_type": "markdown",
      "metadata": {
        "id": "QYXICGbXV9Vp"
      },
      "source": [
        "**Configuración**"
      ]
    },
    {
      "cell_type": "code",
      "metadata": {
        "id": "bYmeU6f3MbvS"
      },
      "source": [
        "num_samples = 120000  # Número de muestra para entrenar.\n",
        "data_path = \"./fra.txt\"  # Path al archivo txt.\n",
        "\n"
      ],
      "execution_count": null,
      "outputs": []
    },
    {
      "cell_type": "code",
      "metadata": {
        "id": "GmmFqyA0T-OV"
      },
      "source": [
        "batch_size = 64  # Batch size para el entrenamiento.\n",
        "epochs = 100  # Número de epochs a entrenar.\n",
        "latent_dim = 128  # Dimensionalidad latente del espacio codificado.\n",
        "output_dim = 64"
      ],
      "execution_count": null,
      "outputs": []
    },
    {
      "cell_type": "markdown",
      "metadata": {
        "id": "j5wPIwN0V-6j"
      },
      "source": [
        "**Preparamos la data**"
      ]
    },
    {
      "cell_type": "code",
      "metadata": {
        "colab": {
          "base_uri": "https://localhost:8080/"
        },
        "id": "YYAfNJp6Npm_",
        "outputId": "609994ea-3b3d-4055-bb71-8609d9d043c8"
      },
      "source": [
        "# Vectorizamos la data.\n",
        "input_texts = []\n",
        "target_texts = []\n",
        "input_ = []\n",
        "tar_ = []\n",
        "input_characters = set()\n",
        "target_characters = set()\n",
        "\n",
        "with open(data_path, \"r\", encoding=\"utf-8\") as f:\n",
        "    lines = f.read().split(\"\\n\")\n",
        "\n",
        "for line in lines[: min(num_samples, len(lines) - 1)]:\n",
        "    for _ in range(5):\n",
        "        input_text, target_text, _ = line.split(\"\\t\")\n",
        "        input_text = input_text.lower()\n",
        "        input_text = re.sub(r'[^a-zA-Z ]+', '', input_text)\n",
        "        target_text = \"\\t\" + input_text + \"\\n\"\n",
        "        for i in range(np.random.choice(np.arange(0, 2), p=[0.1, 0.9])):\n",
        "            input_text = input_text.replace(random.choice(list(input_text)), random.choice(string.ascii_letters))\n",
        "\n",
        "        input_texts.append(input_text.lower())\n",
        "        target_texts.append(target_text)\n",
        "        for char in input_text.lower():\n",
        "            if char not in input_characters:\n",
        "                input_characters.add(char)\n",
        "        for char in target_text:\n",
        "            if char not in target_characters:\n",
        "                target_characters.add(char)\n",
        "\n",
        "input_characters = sorted(list(input_characters))\n",
        "target_characters = sorted(list(target_characters))\n",
        "num_encoder_tokens = len(input_characters)\n",
        "num_decoder_tokens = len(target_characters)\n",
        "max_encoder_seq_length = max([len(txt) for txt in input_texts])\n",
        "max_decoder_seq_length = max([len(txt) for txt in target_texts])\n",
        "\n",
        "print(\"Number of samples:\", len(input_texts))\n",
        "print(\"Number of unique input tokens:\", num_encoder_tokens)\n",
        "print(\"Number of unique output tokens:\", num_decoder_tokens)\n",
        "print(\"Max sequence length for inputs:\", max_encoder_seq_length)\n",
        "print(\"Max sequence length for outputs:\", max_decoder_seq_length)\n",
        "\n",
        "input_token_index = dict([(char, i) for i, char in enumerate(input_characters)])\n",
        "target_token_index = dict([(char, i) for i, char in enumerate(target_characters)])\n",
        "\n",
        "encoder_input_data = np.zeros(\n",
        "    (len(input_texts), max_encoder_seq_length, num_encoder_tokens), dtype=\"float32\"\n",
        ")\n",
        "decoder_input_data = np.zeros(\n",
        "    (len(input_texts), max_decoder_seq_length, num_decoder_tokens), dtype=\"float32\"\n",
        ")\n",
        "decoder_target_data = np.zeros(\n",
        "    (len(input_texts), max_decoder_seq_length, num_decoder_tokens), dtype=\"float32\"\n",
        ")\n",
        "\n",
        "for i, (input_text, target_text) in enumerate(zip(input_texts, target_texts)):\n",
        "    for t, char in enumerate(input_text):\n",
        "        encoder_input_data[i, t, input_token_index[char]] = 1.0\n",
        "    encoder_input_data[i, t + 1:, input_token_index[\" \"]] = 1.0\n",
        "    for t, char in enumerate(target_text):\n",
        "        # decoder_target_data se encuentra adelante de decoder_input_data por un timestep\n",
        "        decoder_input_data[i, t, target_token_index[char]] = 1.0\n",
        "        if t > 0:\n",
        "            # decoder_target_data estará adelantado por un timestep\n",
        "            # any no incluirá el caracter inicial.\n",
        "            decoder_target_data[i, t - 1, target_token_index[char]] = 1.0\n",
        "    decoder_input_data[i, t + 1:, target_token_index[\" \"]] = 1.0\n",
        "    decoder_target_data[i, t:, target_token_index[\" \"]] = 1.0\n",
        "\n"
      ],
      "execution_count": null,
      "outputs": [
        {
          "output_type": "stream",
          "name": "stdout",
          "text": [
            "Number of samples: 600000\n",
            "Number of unique input tokens: 27\n",
            "Number of unique output tokens: 29\n",
            "Max sequence length for inputs: 31\n",
            "Max sequence length for outputs: 33\n"
          ]
        }
      ]
    },
    {
      "cell_type": "code",
      "metadata": {
        "colab": {
          "base_uri": "https://localhost:8080/"
        },
        "id": "Kac1tzsWXqpK",
        "outputId": "6517b319-7e56-4170-957f-f4b3dbd8e621"
      },
      "source": [
        "print(input_token_index)"
      ],
      "execution_count": 9,
      "outputs": [
        {
          "output_type": "stream",
          "name": "stdout",
          "text": [
            "{' ': 0, 'a': 1, 'b': 2, 'c': 3, 'd': 4, 'e': 5, 'f': 6, 'g': 7, 'h': 8, 'i': 9, 'j': 10, 'k': 11, 'l': 12, 'm': 13, 'n': 14, 'o': 15, 'p': 16, 'q': 17, 'r': 18, 's': 19, 't': 20, 'u': 21, 'v': 22, 'w': 23, 'x': 24, 'y': 25, 'z': 26}\n"
          ]
        }
      ]
    },
    {
      "cell_type": "markdown",
      "metadata": {
        "id": "XGuuwkw8WGT5"
      },
      "source": [
        "**Construímos el modelo**"
      ]
    },
    {
      "cell_type": "code",
      "metadata": {
        "id": "Efd1Tm1lQKgG"
      },
      "source": [
        "# Definimos una secuencia de entrada y procesamos.\n",
        "encoder_inputs = ks.Input(shape=(None, num_encoder_tokens))\n",
        "encoder = lys.LSTM(latent_dim, return_state=True, dropout=0.4)\n",
        "encoder_outputs, state_h, state_c = encoder(encoder_inputs)\n",
        "\n",
        "# Descartamos `encoder_outputs` y nos quedamos con los estados.\n",
        "encoder_states = [state_h, state_c]\n",
        "\n",
        "# Preparamos el decodificador, usando `encoder_states` como el estado inicial.\n",
        "decoder_inputs = ks.Input(shape=(None, num_decoder_tokens))\n",
        "\n",
        "# Preparamos nuestro decodificador para que retorne secuencias de salida completas,\n",
        "# y para devolver estados internos también. No usamos los estados de retorno\n",
        "# en el modelo de entrenamiento, pero los usaremos en inferencia.\n",
        "decoder_lstm = lys.LSTM(latent_dim, return_sequences=True, return_state=True, dropout=0.4)\n",
        "decoder_outputs, _, _ = decoder_lstm(decoder_inputs, initial_state=encoder_states)\n",
        "decoder_dense = lys.Dense(num_decoder_tokens, activation=\"softmax\")\n",
        "decoder_outputs = decoder_dense(decoder_outputs)\n",
        "\n",
        "# Definir el modelo que convertirá\n",
        "# `encoder_input_data` y `decoder_input_data` en `decoder_target_data`\n",
        "model = ks.Model([encoder_inputs, decoder_inputs], decoder_outputs)\n",
        "\n"
      ],
      "execution_count": 10,
      "outputs": []
    },
    {
      "cell_type": "markdown",
      "metadata": {
        "id": "zBJeIAhiWLJK"
      },
      "source": [
        "**Entrenamos el modelo**"
      ]
    },
    {
      "cell_type": "code",
      "metadata": {
        "id": "-3yDVWseU4a4"
      },
      "source": [
        "model.compile(\n",
        "    optimizer=\"adam\", loss=\"categorical_crossentropy\", metrics=[\"accuracy\"]\n",
        ")"
      ],
      "execution_count": 11,
      "outputs": []
    },
    {
      "cell_type": "code",
      "metadata": {
        "colab": {
          "base_uri": "https://localhost:8080/"
        },
        "id": "-f88tvZyU7EC",
        "outputId": "2f575f68-6d06-4ad5-9398-9fd1a2224504"
      },
      "source": [
        "model.fit(\n",
        "    [encoder_input_data, decoder_input_data],\n",
        "    decoder_target_data,\n",
        "    batch_size=batch_size,\n",
        "    epochs=15,\n",
        "    validation_split=0.2,\n",
        ")\n",
        "# Guardamos el modelo\n",
        "model.save(\"auto.h5\")"
      ],
      "execution_count": 12,
      "outputs": [
        {
          "output_type": "stream",
          "name": "stdout",
          "text": [
            "Epoch 1/15\n",
            "7500/7500 [==============================] - 864s 115ms/step - loss: 1.2478 - accuracy: 0.6318 - val_loss: 1.2700 - val_accuracy: 0.6209\n",
            "Epoch 2/15\n",
            "7500/7500 [==============================] - 861s 115ms/step - loss: 0.8868 - accuracy: 0.7386 - val_loss: 1.1193 - val_accuracy: 0.6735\n",
            "Epoch 3/15\n",
            "7500/7500 [==============================] - 862s 115ms/step - loss: 0.7811 - accuracy: 0.7704 - val_loss: 1.0895 - val_accuracy: 0.6899\n",
            "Epoch 4/15\n",
            "7500/7500 [==============================] - 859s 114ms/step - loss: 0.7246 - accuracy: 0.7877 - val_loss: 1.0357 - val_accuracy: 0.7064\n",
            "Epoch 5/15\n",
            "7500/7500 [==============================] - 870s 116ms/step - loss: 0.6863 - accuracy: 0.7995 - val_loss: 1.0274 - val_accuracy: 0.7081\n",
            "Epoch 6/15\n",
            "7500/7500 [==============================] - 873s 116ms/step - loss: 0.6594 - accuracy: 0.8076 - val_loss: 0.9978 - val_accuracy: 0.7173\n",
            "Epoch 7/15\n",
            "7500/7500 [==============================] - 874s 117ms/step - loss: 0.6377 - accuracy: 0.8141 - val_loss: 1.0093 - val_accuracy: 0.7204\n",
            "Epoch 8/15\n",
            "7500/7500 [==============================] - 875s 117ms/step - loss: 0.6205 - accuracy: 0.8194 - val_loss: 0.9991 - val_accuracy: 0.7239\n",
            "Epoch 9/15\n",
            "7500/7500 [==============================] - 871s 116ms/step - loss: 0.6068 - accuracy: 0.8234 - val_loss: 0.9813 - val_accuracy: 0.7301\n",
            "Epoch 10/15\n",
            "7500/7500 [==============================] - 870s 116ms/step - loss: 0.5949 - accuracy: 0.8270 - val_loss: 0.9596 - val_accuracy: 0.7337\n",
            "Epoch 11/15\n",
            "7500/7500 [==============================] - 874s 117ms/step - loss: 0.5843 - accuracy: 0.8301 - val_loss: 0.9856 - val_accuracy: 0.7300\n",
            "Epoch 12/15\n",
            "7500/7500 [==============================] - 869s 116ms/step - loss: 0.5752 - accuracy: 0.8328 - val_loss: 0.9823 - val_accuracy: 0.7315\n",
            "Epoch 13/15\n",
            "7500/7500 [==============================] - 873s 116ms/step - loss: 0.5674 - accuracy: 0.8352 - val_loss: 0.9742 - val_accuracy: 0.7370\n",
            "Epoch 14/15\n",
            "7500/7500 [==============================] - 876s 117ms/step - loss: 0.5593 - accuracy: 0.8374 - val_loss: 0.9892 - val_accuracy: 0.7301\n",
            "Epoch 15/15\n",
            "7500/7500 [==============================] - 880s 117ms/step - loss: 0.5533 - accuracy: 0.8393 - val_loss: 0.9849 - val_accuracy: 0.7336\n"
          ]
        }
      ]
    },
    {
      "cell_type": "code",
      "metadata": {
        "colab": {
          "base_uri": "https://localhost:8080/"
        },
        "id": "AjBJp3BzU9Qx",
        "outputId": "301ae128-7d59-4fb7-b080-697d5f42195a"
      },
      "source": [
        "model.summary()"
      ],
      "execution_count": 13,
      "outputs": [
        {
          "output_type": "stream",
          "name": "stdout",
          "text": [
            "Model: \"model\"\n",
            "__________________________________________________________________________________________________\n",
            " Layer (type)                   Output Shape         Param #     Connected to                     \n",
            "==================================================================================================\n",
            " input_1 (InputLayer)           [(None, None, 27)]   0           []                               \n",
            "                                                                                                  \n",
            " input_2 (InputLayer)           [(None, None, 29)]   0           []                               \n",
            "                                                                                                  \n",
            " lstm (LSTM)                    [(None, 128),        79872       ['input_1[0][0]']                \n",
            "                                 (None, 128),                                                     \n",
            "                                 (None, 128)]                                                     \n",
            "                                                                                                  \n",
            " lstm_1 (LSTM)                  [(None, None, 128),  80896       ['input_2[0][0]',                \n",
            "                                 (None, 128),                     'lstm[0][1]',                   \n",
            "                                 (None, 128)]                     'lstm[0][2]']                   \n",
            "                                                                                                  \n",
            " dense (Dense)                  (None, None, 29)     3741        ['lstm_1[0][0]']                 \n",
            "                                                                                                  \n",
            "==================================================================================================\n",
            "Total params: 164,509\n",
            "Trainable params: 164,509\n",
            "Non-trainable params: 0\n",
            "__________________________________________________________________________________________________\n"
          ]
        }
      ]
    },
    {
      "cell_type": "code",
      "metadata": {
        "id": "ymU0tDuHVBpY",
        "colab": {
          "base_uri": "https://localhost:8080/",
          "height": 391
        },
        "outputId": "f36d9805-c72f-4fe5-99fb-15c8b286043d"
      },
      "source": [
        "tf.keras.utils.plot_model(\n",
        "    model,\n",
        "    to_file=\"model.png\",\n",
        "    show_shapes=True,\n",
        "    show_dtype=False,\n",
        "    show_layer_names=True,\n",
        "    rankdir=\"TB\",\n",
        "    expand_nested=False,\n",
        "    dpi=96,\n",
        ")"
      ],
      "execution_count": 14,
      "outputs": [
        {
          "output_type": "execute_result",
          "data": {
            "image/png": "[encoded data removed]",
            "text/plain": [
              "<IPython.core.display.Image object>"
            ]
          },
          "metadata": {},
          "execution_count": 14
        }
      ]
    },
    {
      "cell_type": "markdown",
      "metadata": {
        "id": "19c3xVjeWQr4"
      },
      "source": [
        "**Muestreo**"
      ]
    },
    {
      "cell_type": "code",
      "metadata": {
        "id": "Kq1pReZlWTlS"
      },
      "source": [
        "# Definimos los modelos de muestra\n",
        "# Restauramos el modelo y construímos el encodificador y decodificador.\n",
        "# model = keras.models.load_model(\"s2s\")\n",
        "\n",
        "encoder_inputs = model.input[0]  # input_1\n",
        "encoder_outputs, state_h_enc, state_c_enc = model.layers[2].output  # lstm_1\n",
        "encoder_states = [state_h_enc, state_c_enc]\n",
        "encoder_model = ks.Model(encoder_inputs, encoder_states)\n",
        "\n",
        "decoder_inputs = model.input[1]  # input_2\n",
        "decoder_state_input_h = ks.Input(shape=(latent_dim,), name=\"input_3\")\n",
        "decoder_state_input_c = ks.Input(shape=(latent_dim,), name=\"input_4\")\n",
        "decoder_states_inputs = [decoder_state_input_h, decoder_state_input_c]\n",
        "decoder_lstm = model.layers[3]\n",
        "decoder_outputs, state_h_dec, state_c_dec = decoder_lstm(\n",
        "    decoder_inputs, initial_state=decoder_states_inputs\n",
        ")\n",
        "decoder_states = [state_h_dec, state_c_dec]\n",
        "decoder_dense = model.layers[4]\n",
        "decoder_outputs = decoder_dense(decoder_outputs)\n",
        "decoder_model = ks.Model(\n",
        "    [decoder_inputs] + decoder_states_inputs, [decoder_outputs] + decoder_states\n",
        ")\n",
        "\n",
        "# Índice de token revertido para decodificar secuencias de vuelta a una forma que se pueda leer\n",
        "reverse_input_char_index = dict((i, char) for char, i in input_token_index.items())\n",
        "reverse_target_char_index = dict((i, char) for char, i in target_token_index.items())\n",
        "\n",
        "def decode_sequence(input_seq):\n",
        "    # Codificamos el input como vectores de estado.\n",
        "    states_value = encoder_model.predict(input_seq)\n",
        "\n",
        "    # Generamos la secuencia target vacía de longitud 1.\n",
        "    target_seq = np.zeros((1, 1, num_decoder_tokens))\n",
        "    # Poblamos el primer caracter de la secuencia target con el caracter inicial.\n",
        "    target_seq[0, 0, target_token_index[\"\\t\"]] = 1.0\n",
        "\n",
        "    # Loop de muestra para un batch de secuencias\n",
        "    # Para simplificar asumimos un batch de tamaño 1.\n",
        "    stop_condition = False\n",
        "    decoded_sentence_check = \"\"\n",
        "    while not stop_condition:\n",
        "        output_tokens, h, c = decoder_model.predict([target_seq] + states_value)\n",
        "\n",
        "        # Token de muestra\n",
        "        sampled_token_index = np.argmax(output_tokens[0, -1, :])\n",
        "        sampled_char = reverse_target_char_index[sampled_token_index]\n",
        "        decoded_sentence_check += sampled_char\n",
        "\n",
        "        # Condición de salida: O llegamos a la máxima longitud\n",
        "        # o encontramos un caracter que detenga el proceso.\n",
        "        if sampled_char == \"\\n\" or len(decoded_sentence_check) > max_decoder_seq_length:\n",
        "            stop_condition = True\n",
        "\n",
        "        # Actualizamos la secuencia target de longitud 1.\n",
        "        target_seq = np.zeros((1, 1, num_decoder_tokens))\n",
        "        target_seq[0, 0, sampled_token_index] = 1.0\n",
        "\n",
        "        # Actualizamos los estados\n",
        "        states_value = [h, c]\n",
        "    return decoded_sentence_check"
      ],
      "execution_count": 15,
      "outputs": []
    },
    {
      "cell_type": "code",
      "metadata": {
        "id": "Puw4HxQYW0kA",
        "colab": {
          "base_uri": "https://localhost:8080/"
        },
        "outputId": "6c41cea7-51dd-4db7-8776-55a2e3ccbc42"
      },
      "source": [
        "texto_prueba = \"ygu mqst leave now\"\n",
        "\n",
        "encoder_test_data = np.zeros(\n",
        "    (1, max_encoder_seq_length, num_encoder_tokens), dtype=\"float32\")\n",
        "\n",
        "for t, char in enumerate(texto_prueba):\n",
        "    encoder_test_data[0, t, input_token_index[char]] = 1.0\n",
        "\n",
        "decoded_sentence = decode_sequence(encoder_test_data)\n",
        "print(decoded_sentence)"
      ],
      "execution_count": 19,
      "outputs": [
        {
          "output_type": "stream",
          "name": "stdout",
          "text": [
            "you must leave now\n",
            "\n"
          ]
        }
      ]
    }
  ]
}